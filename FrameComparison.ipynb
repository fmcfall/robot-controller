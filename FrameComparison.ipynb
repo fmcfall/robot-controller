{
 "cells": [
  {
   "cell_type": "code",
   "execution_count": 11,
   "metadata": {},
   "outputs": [
    {
     "data": {
      "text/plain": [
       "\" \\nWebcam Motion Tracking 1.0\\n\\nPRESS 'Q' TO TERMINATE PROCESS\\n\""
      ]
     },
     "execution_count": 11,
     "metadata": {},
     "output_type": "execute_result"
    }
   ],
   "source": [
    "''' \n",
    "Webcam Motion Tracking 1.0\n",
    "\n",
    "PRESS 'Q' TO TERMINATE PROCESS\n",
    "'''"
   ]
  },
  {
   "cell_type": "code",
   "execution_count": 12,
   "metadata": {},
   "outputs": [],
   "source": [
    "import cv2 as cv\n",
    "import pandas as pd\n",
    "import time\n",
    "from datetime import datetime"
   ]
  },
  {
   "cell_type": "code",
   "execution_count": 13,
   "metadata": {},
   "outputs": [
    {
     "name": "stderr",
     "output_type": "stream",
     "text": [
      "C:\\Users\\finnm\\AppData\\Local\\Temp\\ipykernel_1576\\3982021556.py:95: FutureWarning: The frame.append method is deprecated and will be removed from pandas in a future version. Use pandas.concat instead.\n",
      "  df = df.append({\"Start\":time[i], \"End\":time[i + 1]}, ignore_index = True)\n",
      "C:\\Users\\finnm\\AppData\\Local\\Temp\\ipykernel_1576\\3982021556.py:95: FutureWarning: The frame.append method is deprecated and will be removed from pandas in a future version. Use pandas.concat instead.\n",
      "  df = df.append({\"Start\":time[i], \"End\":time[i + 1]}, ignore_index = True)\n",
      "C:\\Users\\finnm\\AppData\\Local\\Temp\\ipykernel_1576\\3982021556.py:95: FutureWarning: The frame.append method is deprecated and will be removed from pandas in a future version. Use pandas.concat instead.\n",
      "  df = df.append({\"Start\":time[i], \"End\":time[i + 1]}, ignore_index = True)\n",
      "C:\\Users\\finnm\\AppData\\Local\\Temp\\ipykernel_1576\\3982021556.py:95: FutureWarning: The frame.append method is deprecated and will be removed from pandas in a future version. Use pandas.concat instead.\n",
      "  df = df.append({\"Start\":time[i], \"End\":time[i + 1]}, ignore_index = True)\n"
     ]
    }
   ],
   "source": [
    "# Assign static_back to None\n",
    "static_back = None\n",
    "\n",
    "# Moving object list\n",
    "motion_list = [None, None]\n",
    "\n",
    "# Time of motion\n",
    "time = []\n",
    "\n",
    "# Dataframe\n",
    "df = pd.DataFrame(columns=[\"start\",\"end\"])\n",
    "\n",
    "# Video\n",
    "video = cv.VideoCapture(0)\n",
    "\n",
    "while True:\n",
    "    # Reading frame(image) from video\n",
    "    check, frame = video.read()\n",
    "  \n",
    "    # Initializing motion = 0(no motion)\n",
    "    motion = 0\n",
    "  \n",
    "    # Converting color image to gray_scale image\n",
    "    gray = cv.cvtColor(frame, cv.COLOR_BGR2GRAY)\n",
    "  \n",
    "    # Converting gray scale image to GaussianBlur \n",
    "    # so that change can be find easily\n",
    "    gray = cv.GaussianBlur(gray, (21, 21), 0)\n",
    "  \n",
    "    # In first iteration we assign the value \n",
    "    # of static_back to our first frame\n",
    "    if static_back is None:\n",
    "        static_back = gray\n",
    "        continue\n",
    "  \n",
    "    # Difference between static background \n",
    "    # and current frame(which is GaussianBlur)\n",
    "    diff_frame = cv.absdiff(static_back, gray)\n",
    "  \n",
    "    # If change in between static background and\n",
    "    # current frame is greater than 30 it will show white color(255)\n",
    "    thresh_frame = cv.threshold(diff_frame, 30, 255, cv.THRESH_BINARY)[1]\n",
    "    thresh_frame = cv.dilate(thresh_frame, None, iterations = 2)\n",
    "  \n",
    "    # Finding contour of moving object\n",
    "    cnts,_ = cv.findContours(thresh_frame.copy(), \n",
    "                       cv.RETR_EXTERNAL, cv.CHAIN_APPROX_SIMPLE)\n",
    "  \n",
    "    for contour in cnts:\n",
    "        if cv.contourArea(contour) < 10000:\n",
    "            continue\n",
    "        motion = 1\n",
    "  \n",
    "        (x, y, w, h) = cv.boundingRect(contour)\n",
    "        # making green rectangle around the moving object\n",
    "        cv.rectangle(frame, (x, y), (x + w, y + h), (0, 255, 0), 3)\n",
    "  \n",
    "    # Appending status of motion\n",
    "    motion_list.append(motion)\n",
    "  \n",
    "    motion_list = motion_list[-2:]\n",
    "  \n",
    "    # Appending Start time of motion\n",
    "    if motion_list[-1] == 1 and motion_list[-2] == 0:\n",
    "        time.append(datetime.now())\n",
    "  \n",
    "    # Appending End time of motion\n",
    "    if motion_list[-1] == 0 and motion_list[-2] == 1:\n",
    "        time.append(datetime.now())\n",
    "  \n",
    "    # Displaying image in gray_scale\n",
    "    # cv.imshow(\"Gray Frame\", gray)\n",
    "  \n",
    "    # Displaying the difference in currentframe to\n",
    "    # the staticframe(very first_frame)\n",
    "    # cv.imshow(\"Difference Frame\", diff_frame)\n",
    "  \n",
    "    # Displaying the black and white image in which if\n",
    "    # intensity difference greater than 30 it will appear white\n",
    "    # cv.imshow(\"Threshold Frame\", thresh_frame)\n",
    "  \n",
    "    # Displaying color frame with contour of motion of object\n",
    "    cv.imshow(\"Color Frame\", frame)\n",
    "  \n",
    "    key = cv.waitKey(1)\n",
    "    # if q entered whole process will stop\n",
    "    if key == ord('q'):\n",
    "        # if something is movingthen it append the end time of movement\n",
    "        if motion == 1:\n",
    "            time.append(datetime.now())\n",
    "        break\n",
    "  \n",
    "# Appending time of motion in DataFrame\n",
    "for i in range(0, len(time), 2):\n",
    "    df = df.append({\"Start\":time[i], \"End\":time[i + 1]}, ignore_index = True)\n",
    "  \n",
    "# Creating a CSV file in which time of movements will be saved\n",
    "df.to_csv(\"Time_of_movements.csv\")\n",
    "  \n",
    "video.release()\n",
    "  \n",
    "# Destroying all the windows\n",
    "cv.destroyAllWindows()"
   ]
  }
 ],
 "metadata": {
  "kernelspec": {
   "display_name": "Python 3.9.13 ('MotionTracking')",
   "language": "python",
   "name": "python3"
  },
  "language_info": {
   "codemirror_mode": {
    "name": "ipython",
    "version": 3
   },
   "file_extension": ".py",
   "mimetype": "text/x-python",
   "name": "python",
   "nbconvert_exporter": "python",
   "pygments_lexer": "ipython3",
   "version": "3.9.13"
  },
  "orig_nbformat": 4,
  "vscode": {
   "interpreter": {
    "hash": "e6ddee81ed7a4b3c2cf8e9a04e21531c318284236c48c0eac862575efac02665"
   }
  }
 },
 "nbformat": 4,
 "nbformat_minor": 2
}
